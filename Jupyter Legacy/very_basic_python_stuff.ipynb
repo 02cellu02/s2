{
 "metadata": {
  "language_info": {
   "codemirror_mode": {
    "name": "ipython",
    "version": 3
   },
   "file_extension": ".py",
   "mimetype": "text/x-python",
   "name": "python",
   "nbconvert_exporter": "python",
   "pygments_lexer": "ipython3",
   "version": "3.8.5"
  },
  "orig_nbformat": 4,
  "kernelspec": {
   "name": "python3",
   "display_name": "Python 3.8.5 64-bit"
  },
  "interpreter": {
   "hash": "31f2aee4e71d21fbe5cf8b01ff0e069b9275f58929596ceb00d14d90e3e16cd6"
  }
 },
 "nbformat": 4,
 "nbformat_minor": 2,
 "cells": [
  {
   "source": [
    "***\n",
    "print() function\n",
    "***"
   ],
   "cell_type": "markdown",
   "metadata": {}
  },
  {
   "source": [
    "#u can also use single inverted coma \n",
    "#if we use two print statements,it would be printed in two lines.(interpretor)line by line\n",
    "print(\"Hai,I'm Celestine Joy\")\n"
   ],
   "cell_type": "code",
   "metadata": {},
   "execution_count": null,
   "outputs": []
  },
  {
   "cell_type": "code",
   "execution_count": null,
   "metadata": {},
   "outputs": [],
   "source": [
    "#to print a character 5 times\n",
    "print('&'*5)"
   ]
  },
  {
   "cell_type": "code",
   "execution_count": null,
   "metadata": {},
   "outputs": [],
   "source": [
    "#We can use sep to decide what to do between items separated by coma\n",
    "print('sdfsd','dsdf',sep='\\n')"
   ]
  },
  {
   "source": [
    "#If you want to print in same line\n",
    "print('Hai',end=' ')\n",
    "print('Everybody')"
   ],
   "cell_type": "code",
   "metadata": {},
   "execution_count": null,
   "outputs": []
  },
  {
   "source": [
    "***\n",
    "Data Types\n",
    "***"
   ],
   "cell_type": "markdown",
   "metadata": {}
  },
  {
   "cell_type": "code",
   "execution_count": 5,
   "metadata": {},
   "outputs": [
    {
     "output_type": "stream",
     "name": "stdout",
     "text": [
      "10\n"
     ]
    }
   ],
   "source": [
    "price=10\n",
    "rating=4.9\n",
    "name='joy'\n",
    "is_published=False#boolean\n",
    "print(price)"
   ]
  },
  {
   "source": [
    "***\n",
    "Input Data\n",
    "***"
   ],
   "cell_type": "markdown",
   "metadata": {}
  },
  {
   "cell_type": "code",
   "execution_count": null,
   "metadata": {},
   "outputs": [],
   "source": [
    "name=input('enter')\n",
    "print('hi '+name)#concatenation"
   ]
  },
  {
   "cell_type": "code",
   "execution_count": null,
   "metadata": {},
   "outputs": [],
   "source": [
    "name=input('whats ur name? ')\n",
    "color=input(\"what's your fav color? \")\n",
    "print(name+' likes '+color)"
   ]
  },
  {
   "cell_type": "code",
   "execution_count": null,
   "metadata": {},
   "outputs": [],
   "source": [
    "# To receive interger data from user as input\n",
    "year=int(input(\"Enter the birth year: \"))\n",
    "print(2021-year)"
   ]
  }
 ]
}