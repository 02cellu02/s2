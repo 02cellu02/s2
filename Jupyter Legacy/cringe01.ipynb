{
 "metadata": {
  "language_info": {
   "codemirror_mode": {
    "name": "ipython",
    "version": 3
   },
   "file_extension": ".py",
   "mimetype": "text/x-python",
   "name": "python",
   "nbconvert_exporter": "python",
   "pygments_lexer": "ipython3",
   "version": "3.8.5"
  },
  "orig_nbformat": 4,
  "kernelspec": {
   "name": "python3",
   "display_name": "Python 3.8.5 64-bit"
  },
  "interpreter": {
   "hash": "31f2aee4e71d21fbe5cf8b01ff0e069b9275f58929596ceb00d14d90e3e16cd6"
  }
 },
 "nbformat": 4,
 "nbformat_minor": 2,
 "cells": [
  {
   "source": [
    "#print all elements except last character\n",
    "a='Welcome to the Fight club'\n",
    "print(a[:-1])"
   ],
   "cell_type": "code",
   "metadata": {},
   "execution_count": 8,
   "outputs": [
    {
     "output_type": "stream",
     "name": "stdout",
     "text": [
      "Welcome to the Fight clu\n"
     ]
    }
   ]
  },
  {
   "cell_type": "code",
   "execution_count": 9,
   "metadata": {},
   "outputs": [
    {
     "output_type": "stream",
     "name": "stdout",
     "text": [
      "bulc thgiF eht ot emocleW\n"
     ]
    }
   ],
   "source": [
    "#print string in reverse order\n",
    "a='Welcome to the Fight club'\n",
    "print(a[::-1])"
   ]
  },
  {
   "cell_type": "code",
   "execution_count": 10,
   "metadata": {},
   "outputs": [
    {
     "output_type": "stream",
     "name": "stdout",
     "text": [
      "ecm o\n"
     ]
    }
   ],
   "source": [
    "#print elements with increment 2\n",
    "a='Welcome to the Fight club'\n",
    "print(a[1:10:2])"
   ]
  },
  {
   "cell_type": "code",
   "execution_count": 11,
   "metadata": {},
   "outputs": [
    {
     "output_type": "stream",
     "name": "stdout",
     "text": [
      "++++++++++++Welcome to the Fight club+++++++++++++\n"
     ]
    }
   ],
   "source": [
    "#To print in the center,the 50 includes both {a} & '+'\n",
    "a='Welcome to the Fight club'\n",
    "print(a.center(50,'+'))"
   ]
  },
  {
   "cell_type": "code",
   "execution_count": 12,
   "metadata": {},
   "outputs": [
    {
     "output_type": "stream",
     "name": "stdout",
     "text": [
      "Welcome to the Fight club+++++++++++++++++++++++++\n"
     ]
    }
   ],
   "source": [
    "a='Welcome to the Fight club'\n",
    "print(a.ljust(50,'+'))"
   ]
  },
  {
   "cell_type": "code",
   "execution_count": 13,
   "metadata": {},
   "outputs": [
    {
     "output_type": "stream",
     "name": "stdout",
     "text": [
      "+++++++++++++++++++++++++Welcome to the Fight club\n"
     ]
    }
   ],
   "source": [
    "a='Welcome to the Fight club'\n",
    "print(a.rjust(50,'+'))"
   ]
  },
  {
   "cell_type": "code",
   "execution_count": null,
   "metadata": {},
   "outputs": [],
   "source": []
  }
 ]
}