{
  "nbformat": 4,
  "nbformat_minor": 0,
  "metadata": {
    "language_info": {
      "codemirror_mode": {
        "name": "ipython",
        "version": 3
      },
      "file_extension": ".py",
      "mimetype": "text/x-python",
      "name": "python",
      "nbconvert_exporter": "python",
      "pygments_lexer": "ipython3",
      "version": "3.8.5"
    },
    "orig_nbformat": 4,
    "kernelspec": {
      "name": "python3",
      "display_name": "Python 3.8.5 64-bit"
    },
    "interpreter": {
      "hash": "31f2aee4e71d21fbe5cf8b01ff0e069b9275f58929596ceb00d14d90e3e16cd6"
    },
    "colab": {
      "name": "basic_python.ipynb",
      "provenance": [],
      "collapsed_sections": [
        "mygLPigXDi_X",
        "-J-H7oWcDi_m",
        "LeXYLQOvDi_n",
        "_J1vEx9IDi_r",
        "YTvCOM2gMC-t",
        "5EOZKtY1NYLn",
        "eVM6VlJdNwjs",
        "P70zBoNdOtHF",
        "H7VXRKiJQWET",
        "848IRog6QyvZ",
        "bbxhniRMSMg4",
        "J_GsU1dpS6mA",
        "aaaN8BCwTdU2",
        "WMHqPdkZUEOc",
        "DJC2WIJbUwHg",
        "f6rH2T85VAY_",
        "pQZWu2EWVsjn",
        "V7W-S1y2qxO-",
        "3Iq8r_UxrafD",
        "mOw9wG3ctu7w",
        "L3oE0am3t5MT",
        "c_HnVz_3u3uP",
        "UO9iHGhwvJWm",
        "3U4IIIrnvbU3",
        "W1-ngHQzvu3i",
        "FUWgVG2Pv5Y5",
        "EobbAk7SwKJe",
        "MOymYTEPTDHm",
        "61zUoxcn0Qb6",
        "-8cpm0f003fV",
        "-4XbAunl1RNo",
        "0cLswikFQAoG"
      ],
      "include_colab_link": true
    }
  },
  "cells": [
    {
      "cell_type": "markdown",
      "metadata": {
        "id": "view-in-github",
        "colab_type": "text"
      },
      "source": [
        "<a href=\"https://colab.research.google.com/github/02cellu02/s2/blob/master/basic_python.ipynb\" target=\"_parent\"><img src=\"https://colab.research.google.com/assets/colab-badge.svg\" alt=\"Open In Colab\"/></a>"
      ]
    },
    {
      "cell_type": "markdown",
      "metadata": {
        "id": "mygLPigXDi_X"
      },
      "source": [
        "\n",
        "#print() function\n",
        " "
      ]
    },
    {
      "cell_type": "code",
      "metadata": {
        "colab": {
          "base_uri": "https://localhost:8080/"
        },
        "id": "3FAZhy7pDi_g",
        "outputId": "b583637c-f231-473c-aa16-8c027d66ff44"
      },
      "source": [
        "#u can also use single inverted coma \n",
        "#if we use two print statements,it would be printed in two lines.(interpretor)line by line\n",
        "print(\"Hai,I'm Celestine Joy\")\n"
      ],
      "execution_count": null,
      "outputs": [
        {
          "output_type": "stream",
          "text": [
            "Hai,I'm Celestine Joy\n"
          ],
          "name": "stdout"
        }
      ]
    },
    {
      "cell_type": "code",
      "metadata": {
        "colab": {
          "base_uri": "https://localhost:8080/"
        },
        "id": "RnW-9WQfDi_j",
        "outputId": "c423234a-5470-44b9-eeca-ccbc89009c9d"
      },
      "source": [
        "#to print a character 5 times\n",
        "print('&'*5)"
      ],
      "execution_count": null,
      "outputs": [
        {
          "output_type": "stream",
          "text": [
            "&&&&&\n"
          ],
          "name": "stdout"
        }
      ]
    },
    {
      "cell_type": "code",
      "metadata": {
        "colab": {
          "base_uri": "https://localhost:8080/"
        },
        "id": "BJo4AjQtDi_k",
        "outputId": "c3cef626-2295-409f-9eb1-85a265503a6f"
      },
      "source": [
        "#We can use sep to decide what to do between items separated by coma\n",
        "print('sdfsd','dsdf',sep='\\n')"
      ],
      "execution_count": null,
      "outputs": [
        {
          "output_type": "stream",
          "text": [
            "sdfsd\n",
            "dsdf\n"
          ],
          "name": "stdout"
        }
      ]
    },
    {
      "cell_type": "code",
      "metadata": {
        "colab": {
          "base_uri": "https://localhost:8080/"
        },
        "id": "7hstuWUKDi_l",
        "outputId": "2bdf366d-26fb-468e-d54e-6d30f6d5be6e"
      },
      "source": [
        "#If you want to print in same line\n",
        "print('Hai',end=' ')\n",
        "print('Everybody')"
      ],
      "execution_count": null,
      "outputs": [
        {
          "output_type": "stream",
          "text": [
            "Hai Everybody\n"
          ],
          "name": "stdout"
        }
      ]
    },
    {
      "cell_type": "markdown",
      "metadata": {
        "id": "-J-H7oWcDi_m"
      },
      "source": [
        "\n",
        "#Data Types\n"
      ]
    },
    {
      "cell_type": "code",
      "metadata": {
        "colab": {
          "base_uri": "https://localhost:8080/"
        },
        "id": "ZP4iifHhDi_m",
        "outputId": "3991126f-514f-48d1-c703-a90e1cfc7174"
      },
      "source": [
        "price=10\n",
        "rating=4.9\n",
        "name='joy'\n",
        "is_published=False#boolean\n",
        "print(price)"
      ],
      "execution_count": null,
      "outputs": [
        {
          "output_type": "stream",
          "text": [
            "10\n"
          ],
          "name": "stdout"
        }
      ]
    },
    {
      "cell_type": "markdown",
      "metadata": {
        "id": "LeXYLQOvDi_n"
      },
      "source": [
        "\n",
        "#Input Data\n"
      ]
    },
    {
      "cell_type": "code",
      "metadata": {
        "colab": {
          "base_uri": "https://localhost:8080/"
        },
        "id": "70cJisJeDi_o",
        "outputId": "5a78c255-98f7-4871-b74b-913e882ad277"
      },
      "source": [
        "name=input('enter')\n",
        "print('hi '+name)#concatenation"
      ],
      "execution_count": null,
      "outputs": [
        {
          "output_type": "stream",
          "text": [
            "enterrhiherhi\n",
            "hi rhiherhi\n"
          ],
          "name": "stdout"
        }
      ]
    },
    {
      "cell_type": "code",
      "metadata": {
        "colab": {
          "base_uri": "https://localhost:8080/"
        },
        "id": "5bEu-tkkDi_p",
        "outputId": "3666270e-ab84-4cda-c836-bf5cde75cb2f"
      },
      "source": [
        "name=input('whats ur name? ')\n",
        "color=input(\"what's your fav color? \")\n",
        "print(name+' likes '+color)"
      ],
      "execution_count": null,
      "outputs": [
        {
          "output_type": "stream",
          "text": [
            "whats ur name? sd\n",
            "what's your fav color? red\n",
            "sd likes red\n"
          ],
          "name": "stdout"
        }
      ]
    },
    {
      "cell_type": "code",
      "metadata": {
        "colab": {
          "base_uri": "https://localhost:8080/"
        },
        "id": "ZqrvYAPcDi_q",
        "outputId": "655aac9a-0aca-4ffd-a3fb-d9e351e3bf13"
      },
      "source": [
        "# To receive interger data from user as input\n",
        "year=int(input(\"Enter the birth year: \"))\n",
        "print(2021-year)"
      ],
      "execution_count": null,
      "outputs": [
        {
          "output_type": "stream",
          "text": [
            "Enter the birth year: 2000\n",
            "21\n"
          ],
          "name": "stdout"
        }
      ]
    },
    {
      "cell_type": "markdown",
      "metadata": {
        "id": "_J1vEx9IDi_r"
      },
      "source": [
        "\n",
        "#String\n"
      ]
    },
    {
      "cell_type": "code",
      "metadata": {
        "id": "7CcsF1P0Di_r",
        "colab": {
          "base_uri": "https://localhost:8080/"
        },
        "outputId": "f20c0beb-336b-4e6a-e3ef-7ab719f4d69f"
      },
      "source": [
        "#to store a string in multiple lines eg:email\n",
        "course=''' \n",
        "Hi, Dude...!\n",
        "How u holding?\n",
        "\n",
        "\n",
        "see u soon...\n",
        "'''\n",
        "print(course)"
      ],
      "execution_count": null,
      "outputs": [
        {
          "output_type": "stream",
          "text": [
            " \n",
            "Hi, Dude...!\n",
            "How u holding?\n",
            "\n",
            "\n",
            "see u soon...\n",
            "\n"
          ],
          "name": "stdout"
        }
      ]
    },
    {
      "cell_type": "code",
      "metadata": {
        "id": "d-wHdMPNDi_s",
        "colab": {
          "base_uri": "https://localhost:8080/"
        },
        "outputId": "542f2684-2455-4672-c65e-c6377fc3b2a1"
      },
      "source": [
        "#access each index in a string\n",
        "course='Python For Beginner'\n",
        "print(course[0])#first elt\n",
        "print(course[-1])#last elt\n",
        "print(course[-2])#second last elt\n",
        "print(course[0:3])#print all c[x];0<=x<3;\n",
        "print(course[0:])#string starting from index 0\n",
        "print(course[1:])#string starting from index 1\n",
        "print(course[:5])#python assume starting index as 0\n",
        "print(course[:])#full string\n"
      ],
      "execution_count": null,
      "outputs": [
        {
          "output_type": "stream",
          "text": [
            "P\n",
            "r\n",
            "e\n",
            "Pyt\n",
            "Python For Beginner\n",
            "ython For Beginner\n",
            "Pytho\n",
            "Python For Beginner\n"
          ],
          "name": "stdout"
        }
      ]
    },
    {
      "cell_type": "code",
      "metadata": {
        "id": "gQPwtER0Di_t",
        "colab": {
          "base_uri": "https://localhost:8080/"
        },
        "outputId": "0726df54-5b47-49d2-f64a-c9f8cee53f9a"
      },
      "source": [
        "#problem\n",
        "name='Jennifer'\n",
        "print(name[1:-1])#print all name[x];x belong to [1,last index);\n"
      ],
      "execution_count": null,
      "outputs": [
        {
          "output_type": "stream",
          "text": [
            "ennife\n"
          ],
          "name": "stdout"
        }
      ]
    },
    {
      "cell_type": "code",
      "metadata": {
        "id": "RFLls-auDi_u",
        "colab": {
          "base_uri": "https://localhost:8080/"
        },
        "outputId": "2f5d3491-73c4-4da7-b58f-9698625582c4"
      },
      "source": [
        "#formatted string\n",
        "#print John [Smith] is a coder using formatted string\n",
        "first='John'\n",
        "last='Smith'\n",
        "message=first+' ['+last+'] is a coder'#normal way\n",
        "mesg=f'{first} [{last}] is a coder'#formatted string\n",
        "print(message)\n",
        "print(mesg)"
      ],
      "execution_count": null,
      "outputs": [
        {
          "output_type": "stream",
          "text": [
            "John [Smith] is a coder\n",
            "John [Smith] is a coder\n"
          ],
          "name": "stdout"
        }
      ]
    },
    {
      "cell_type": "code",
      "metadata": {
        "id": "8uNxgUXyI-ay",
        "colab": {
          "base_uri": "https://localhost:8080/"
        },
        "outputId": "a0e7a572-5e94-462b-dd3a-4a9e3aad42da"
      },
      "source": [
        "#print all elements except last character\n",
        "a='Welcome to the Fight club'\n",
        "print(a[:-1])"
      ],
      "execution_count": null,
      "outputs": [
        {
          "output_type": "stream",
          "text": [
            "Welcome to the Fight clu\n"
          ],
          "name": "stdout"
        }
      ]
    },
    {
      "cell_type": "code",
      "metadata": {
        "id": "iE_rtQCADi_u",
        "colab": {
          "base_uri": "https://localhost:8080/"
        },
        "outputId": "b91eccbd-7fdb-46ed-cba1-36a7625fba2b"
      },
      "source": [
        "#String functions and methods\n",
        "course='Python For Beginner'\n",
        "print(len(course))#len:length of string;gen fn\n",
        "print(course.upper())#uppercase;they are methods.\n",
        "print(course.lower())#lowercase\n",
        "print(course.find('F'))#returns index of first occuring of that character;\n",
        "                       #returns -1 if character is not found;           \n",
        "print(course.find('Beginner'))#returns index of first character;if not found then -1;\n",
        "print(course.replace('For','for every'))#replace character or string if found.\n",
        "print('Python 'in course)#returns true when substring is found  else false."
      ],
      "execution_count": null,
      "outputs": [
        {
          "output_type": "stream",
          "text": [
            "19\n",
            "PYTHON FOR BEGINNER\n",
            "python for beginner\n",
            "7\n",
            "11\n",
            "Python for every Beginner\n",
            "True\n"
          ],
          "name": "stdout"
        }
      ]
    },
    {
      "cell_type": "code",
      "metadata": {
        "id": "3afcGr9jJtb-",
        "colab": {
          "base_uri": "https://localhost:8080/"
        },
        "outputId": "3d271ea4-1d7e-43b7-e1f4-e1b295da6e66"
      },
      "source": [
        "#print string in reverse order\n",
        "a='Welcome to the Fight club'\n",
        "print(a[::-1])"
      ],
      "execution_count": null,
      "outputs": [
        {
          "output_type": "stream",
          "text": [
            "bulc thgiF eht ot emocleW\n"
          ],
          "name": "stdout"
        }
      ]
    },
    {
      "cell_type": "code",
      "metadata": {
        "id": "bYRC6YMJJ5-h",
        "colab": {
          "base_uri": "https://localhost:8080/"
        },
        "outputId": "928fcef1-8445-4405-da18-452371cafe91"
      },
      "source": [
        "#print elements with increment 2\n",
        "a='Welcome to the Fight club'\n",
        "print(a[1:10:2])"
      ],
      "execution_count": null,
      "outputs": [
        {
          "output_type": "stream",
          "text": [
            "ecm o\n"
          ],
          "name": "stdout"
        }
      ]
    },
    {
      "cell_type": "code",
      "metadata": {
        "id": "ppKsNLK4KjfV",
        "colab": {
          "base_uri": "https://localhost:8080/"
        },
        "outputId": "a643c59b-7d77-40ed-f759-33e92c2f47b5"
      },
      "source": [
        "#To print in the center,the 50 includes both {a} & '+'\n",
        "a='Welcome to the Fight club'\n",
        "print(a.center(50,'+'))"
      ],
      "execution_count": null,
      "outputs": [
        {
          "output_type": "stream",
          "text": [
            "++++++++++++Welcome to the Fight club+++++++++++++\n"
          ],
          "name": "stdout"
        }
      ]
    },
    {
      "cell_type": "code",
      "metadata": {
        "id": "keN8Z7JfK8Z5",
        "colab": {
          "base_uri": "https://localhost:8080/"
        },
        "outputId": "eae6dbf5-5c7c-43b5-fc87-62bb39ef21fb"
      },
      "source": [
        "a='Welcome to the Fight club'\n",
        "print(a.ljust(50,'+'))"
      ],
      "execution_count": null,
      "outputs": [
        {
          "output_type": "stream",
          "text": [
            "Welcome to the Fight club+++++++++++++++++++++++++\n"
          ],
          "name": "stdout"
        }
      ]
    },
    {
      "cell_type": "code",
      "metadata": {
        "id": "RH3vPWVBK9n6",
        "colab": {
          "base_uri": "https://localhost:8080/"
        },
        "outputId": "df9b5435-b278-46f3-82e2-783a2544fd35"
      },
      "source": [
        "a='Welcome to the Fight club'\n",
        "print(a.rjust(50,'+'))"
      ],
      "execution_count": null,
      "outputs": [
        {
          "output_type": "stream",
          "text": [
            "+++++++++++++++++++++++++Welcome to the Fight club\n"
          ],
          "name": "stdout"
        }
      ]
    },
    {
      "cell_type": "code",
      "metadata": {
        "id": "rrbgdLUAT8nh",
        "colab": {
          "base_uri": "https://localhost:8080/"
        },
        "outputId": "839903ff-4735-4d5b-b81c-07933d8dd250"
      },
      "source": [
        "#how to split a string when space occur\n",
        "string=input('<')\n",
        "sting2=string.split(' ')\n",
        "print(sting2[0])"
      ],
      "execution_count": null,
      "outputs": [
        {
          "output_type": "stream",
          "text": [
            "<wekcome\n",
            "wekcome\n"
          ],
          "name": "stdout"
        }
      ]
    },
    {
      "cell_type": "code",
      "metadata": {
        "id": "1LQEwnHaLFB8",
        "colab": {
          "base_uri": "https://localhost:8080/"
        },
        "outputId": "e7df29f8-52d0-4cff-f3e2-2995e1c93404"
      },
      "source": [
        "a='Welcome to the Fight club'.split()\n",
        "print(a)\n",
        "print(a[-2::-1])"
      ],
      "execution_count": null,
      "outputs": [
        {
          "output_type": "stream",
          "text": [
            "['Welcome', 'to', 'the', 'Fight', 'club']\n",
            "['Fight', 'the', 'to', 'Welcome']\n"
          ],
          "name": "stdout"
        }
      ]
    },
    {
      "cell_type": "markdown",
      "metadata": {
        "id": "YTvCOM2gMC-t"
      },
      "source": [
        "#Arithmetic operators"
      ]
    },
    {
      "cell_type": "code",
      "metadata": {
        "id": "5FfCVxrZDi_v",
        "colab": {
          "base_uri": "https://localhost:8080/"
        },
        "outputId": "26068934-621d-4f79-bf4e-6630e9133f42"
      },
      "source": [
        "#Arithmetic operators\n",
        "print(10/3)#floating point no will be printed\n",
        "print(10//3)#print 3\n",
        "print(10**3)#exponential 1000\n",
        "print(10%3)#remainder\n",
        "\n"
      ],
      "execution_count": null,
      "outputs": [
        {
          "output_type": "stream",
          "text": [
            "3.3333333333333335\n",
            "3\n",
            "1000\n",
            "1\n"
          ],
          "name": "stdout"
        }
      ]
    },
    {
      "cell_type": "markdown",
      "metadata": {
        "id": "5EOZKtY1NYLn"
      },
      "source": [
        "#Math functions\n"
      ]
    },
    {
      "cell_type": "code",
      "metadata": {
        "id": "wQqKGn_CNu4_",
        "colab": {
          "base_uri": "https://localhost:8080/"
        },
        "outputId": "060ae861-05a0-4132-fb67-518b7ab2c7c9"
      },
      "source": [
        "x=2.9\n",
        "print(round(x))#rounds the no ans:3\n",
        "print(abs(-x))#absolute fn same as c;\n",
        "\n",
        "#math library has many fn to use it \"import math\"\n",
        "import math\n",
        "print(math.ceil(2.9))\n",
        "#to know all fns google python 3 math module;\n"
      ],
      "execution_count": null,
      "outputs": [
        {
          "output_type": "stream",
          "text": [
            "3\n",
            "2.9\n",
            "3\n"
          ],
          "name": "stdout"
        }
      ]
    },
    {
      "cell_type": "markdown",
      "metadata": {
        "id": "eVM6VlJdNwjs"
      },
      "source": [
        "#if statements "
      ]
    },
    {
      "cell_type": "code",
      "metadata": {
        "colab": {
          "base_uri": "https://localhost:8080/"
        },
        "id": "YdR3OCwWOMvI",
        "outputId": "4444edcc-62b1-4d32-ed05-6f7ef5070e52"
      },
      "source": [
        "is_hot=False\n",
        "is_cold=True\n",
        "if is_hot:\n",
        "    print(\"its a hot day\")\n",
        "    print(\"drink water\")\n",
        "elif is_cold:\n",
        "    print(\"its a cold day\")\n",
        "else:\n",
        "    print(\"It's a lovely day\")\n"
      ],
      "execution_count": null,
      "outputs": [
        {
          "output_type": "stream",
          "text": [
            "its a cold day\n"
          ],
          "name": "stdout"
        }
      ]
    },
    {
      "cell_type": "code",
      "metadata": {
        "id": "z_5MngksOZgw",
        "colab": {
          "base_uri": "https://localhost:8080/"
        },
        "outputId": "f49ffdec-8eab-40b7-cad0-93c76b9899bc"
      },
      "source": [
        "#pb\n",
        "price=1000000\n",
        "is_good_credit=True\n",
        "if is_good_credit:\n",
        "    down=0.1*price\n",
        "else:\n",
        "    down=0.2*price\n",
        "print(f'down payment:${down}')"
      ],
      "execution_count": null,
      "outputs": [
        {
          "output_type": "stream",
          "text": [
            "down payment:$100000.0\n"
          ],
          "name": "stdout"
        }
      ]
    },
    {
      "cell_type": "markdown",
      "metadata": {
        "id": "P70zBoNdOtHF"
      },
      "source": [
        "#Logical Operators"
      ]
    },
    {
      "cell_type": "code",
      "metadata": {
        "id": "1peJEByGOjrV",
        "colab": {
          "base_uri": "https://localhost:8080/"
        },
        "outputId": "532eccf8-a050-4408-b6b6-d84c9be4f555"
      },
      "source": [
        "#logical operators and,or,not\n",
        "high_income=True\n",
        "is_good_credit=True\n",
        "if high_income and is_good_credit:\n",
        "    print(\"eligible\")\n",
        "if is_good_credit and not high_income:\n",
        "    print(\"not eligible\")\n",
        "#comparison operator are same as in c;"
      ],
      "execution_count": null,
      "outputs": [
        {
          "output_type": "stream",
          "text": [
            "eligible\n"
          ],
          "name": "stdout"
        }
      ]
    },
    {
      "cell_type": "markdown",
      "metadata": {
        "id": "H7VXRKiJQWET"
      },
      "source": [
        "#While loop"
      ]
    },
    {
      "cell_type": "code",
      "metadata": {
        "id": "X7rxlBT9QcUB",
        "colab": {
          "base_uri": "https://localhost:8080/"
        },
        "outputId": "29e688bc-90a1-4d1b-f8a3-e15c9b830827"
      },
      "source": [
        "#while\n",
        "i=0\n",
        "while i<5:\n",
        "    print(i*'*')\n",
        "    i+=1"
      ],
      "execution_count": null,
      "outputs": [
        {
          "output_type": "stream",
          "text": [
            "\n",
            "*\n",
            "**\n",
            "***\n",
            "****\n"
          ],
          "name": "stdout"
        }
      ]
    },
    {
      "cell_type": "code",
      "metadata": {
        "id": "N99WI5F9Ql52",
        "colab": {
          "base_uri": "https://localhost:8080/"
        },
        "outputId": "e823db7d-3ef3-4b07-bd76-ee6b84dfd372"
      },
      "source": [
        "#pb\n",
        "#while loop can also have else part;\n",
        "#it will execute when while loop is executed successfully without an immediate break\n",
        "#i.e no sudden breaks,in below pgm if guess is 9 then it breaks now else part willnot execute\n",
        "i=3\n",
        "while i:\n",
        "    guess=int(input('Guess:'))\n",
        "    if guess==9:\n",
        "        print('u win')\n",
        "        break\n",
        "    i-=1\n",
        "else:\n",
        "    print('all 3 guesses were wrong')"
      ],
      "execution_count": null,
      "outputs": [
        {
          "output_type": "stream",
          "text": [
            "Guess:9\n",
            "u win\n"
          ],
          "name": "stdout"
        }
      ]
    },
    {
      "cell_type": "markdown",
      "metadata": {
        "id": "848IRog6QyvZ"
      },
      "source": [
        "#For Loop"
      ]
    },
    {
      "cell_type": "code",
      "metadata": {
        "colab": {
          "base_uri": "https://localhost:8080/"
        },
        "id": "gdCoVXkBQ3NI",
        "outputId": "0d6d39a1-5b2a-4657-a2b9-10bd12cc7559"
      },
      "source": [
        "#for loop\n",
        "for item in 'python':\n",
        "    print(item)\n",
        "for item in ['joy','sheena','Galdin','celestine']:\n",
        "    print(item)\n",
        "for item in range(10):\n",
        "    print(item)#print nos from 0 to 9\n",
        "for item in range(5,10,2):\n",
        "    print(item)#prints 5,7,9;2 is increment;"
      ],
      "execution_count": null,
      "outputs": [
        {
          "output_type": "stream",
          "text": [
            "p\n",
            "y\n",
            "t\n",
            "h\n",
            "o\n",
            "n\n",
            "joy\n",
            "sheena\n",
            "Galdin\n",
            "celestine\n",
            "0\n",
            "1\n",
            "2\n",
            "3\n",
            "4\n",
            "5\n",
            "6\n",
            "7\n",
            "8\n",
            "9\n",
            "5\n",
            "7\n",
            "9\n"
          ],
          "name": "stdout"
        }
      ]
    },
    {
      "cell_type": "code",
      "metadata": {
        "colab": {
          "base_uri": "https://localhost:8080/"
        },
        "id": "V1Qf4yb6REE0",
        "outputId": "93edc9e2-a2f0-482b-b996-c2faf90fb20e"
      },
      "source": [
        "#nexted loop;print all 2D coordinates possible with 0<=x<=3 and 0<=y<=2\n",
        "for i in range(4):\n",
        "    for j in range(3):\n",
        "        print(f'({i},{j})')"
      ],
      "execution_count": null,
      "outputs": [
        {
          "output_type": "stream",
          "text": [
            "(0,0)\n",
            "(0,1)\n",
            "(0,2)\n",
            "(1,0)\n",
            "(1,1)\n",
            "(1,2)\n",
            "(2,0)\n",
            "(2,1)\n",
            "(2,2)\n",
            "(3,0)\n",
            "(3,1)\n",
            "(3,2)\n"
          ],
          "name": "stdout"
        }
      ]
    },
    {
      "cell_type": "markdown",
      "metadata": {
        "id": "bbxhniRMSMg4"
      },
      "source": [
        "#Lists"
      ]
    },
    {
      "cell_type": "code",
      "metadata": {
        "id": "GI34f56eSP79",
        "colab": {
          "base_uri": "https://localhost:8080/"
        },
        "outputId": "cb2a7324-be2e-40f6-d0a7-d965769ff408"
      },
      "source": [
        "#lists\n",
        "names=['cel','joy','sheena','galdin joy']\n",
        "print(names)\n",
        "print(names[0])#first elt cel\n",
        "print(names[-1])#last elt galdin joy\n",
        "print(names[2:4])#list of items from 2nd index to 4(not included)\n",
        "#to edit list elt\n",
        "names[0]='celestine'\n"
      ],
      "execution_count": null,
      "outputs": [
        {
          "output_type": "stream",
          "text": [
            "['cel', 'joy', 'sheena', 'galdin joy']\n",
            "cel\n",
            "galdin joy\n",
            "['sheena', 'galdin joy']\n"
          ],
          "name": "stdout"
        }
      ]
    },
    {
      "cell_type": "code",
      "metadata": {
        "id": "RApm20KBSXFK",
        "colab": {
          "base_uri": "https://localhost:8080/"
        },
        "outputId": "546700d9-99e2-47f6-8903-2387256cf91c"
      },
      "source": [
        "#to find largest no in a list\n",
        "list1=[1,3,2,8,4,3]\n",
        "larg=list1[0]\n",
        "for i in list1:\n",
        "    if i>larg:\n",
        "        larg=i\n",
        "print(larg)"
      ],
      "execution_count": null,
      "outputs": [
        {
          "output_type": "stream",
          "text": [
            "8\n"
          ],
          "name": "stdout"
        }
      ]
    },
    {
      "cell_type": "code",
      "metadata": {
        "id": "KaZ9FM-xSYmQ",
        "colab": {
          "base_uri": "https://localhost:8080/"
        },
        "outputId": "d59e8385-33d8-4aa6-e319-344b1d80053c"
      },
      "source": [
        "#2d list\n",
        "matrix=[[1,2,3],[4,5,6],[7,8,9]]\n",
        "print(matrix[0])#print first list inside\n",
        "print(matrix[0][1])#print 2\n",
        "#to edit elt\n",
        "matrix[0][0]=10\n",
        "for row in matrix:\n",
        "    for item in row:\n",
        "        print(item)\n",
        "        "
      ],
      "execution_count": null,
      "outputs": [
        {
          "output_type": "stream",
          "text": [
            "[1, 2, 3]\n",
            "2\n",
            "10\n",
            "2\n",
            "3\n",
            "4\n",
            "5\n",
            "6\n",
            "7\n",
            "8\n",
            "9\n"
          ],
          "name": "stdout"
        }
      ]
    },
    {
      "cell_type": "code",
      "metadata": {
        "id": "kJtFIi01Sogk",
        "colab": {
          "base_uri": "https://localhost:8080/"
        },
        "outputId": "871b419e-9dde-418e-e14c-f456502b3560"
      },
      "source": [
        "#list operations\n",
        "numbers=[5,2,7,1,4]\n",
        "numbers.clear()#removes everything ;just empty square bracket\n",
        "numbers=[5,2,7,1,4,5]\n",
        "numbers.append(20)#add 20 at end\n",
        "numbers.insert(0,10)#1st index 2nd number to be inserted\n",
        "numbers.remove(5)#removes the first occurence\n",
        "print(numbers)#removes 5 from list\n",
        "numbers.pop()#removes last elt\n",
        "numbers.index(2)#gives index;if not found shows value error\n",
        "print(5 in numbers)#gives true or false\n",
        "print(numbers.count(5))#print no of elts with given value\n",
        "numbers.sort()#sort\n",
        "numbers.reverse()#reverse the list\n",
        "number2=numbers.copy()#copy list independently\n"
      ],
      "execution_count": null,
      "outputs": [
        {
          "output_type": "stream",
          "text": [
            "[10, 2, 7, 1, 4, 5, 20]\n",
            "True\n",
            "1\n"
          ],
          "name": "stdout"
        }
      ]
    },
    {
      "cell_type": "code",
      "metadata": {
        "id": "XZi3dMLMSshB",
        "colab": {
          "base_uri": "https://localhost:8080/"
        },
        "outputId": "413f9b46-87eb-4666-a40d-6d2113c34ada"
      },
      "source": [
        "#delete duplicate entries in list\n",
        "numbers=[2,3,2,4,1,3,2,5,2,6,1]\n",
        "n2=[]\n",
        "for items in numbers:\n",
        "    if items not in n2:\n",
        "        n2.append(items)\n",
        "print(n2)\n"
      ],
      "execution_count": null,
      "outputs": [
        {
          "output_type": "stream",
          "text": [
            "[2, 3, 4, 1, 5, 6]\n"
          ],
          "name": "stdout"
        }
      ]
    },
    {
      "cell_type": "markdown",
      "metadata": {
        "id": "J_GsU1dpS6mA"
      },
      "source": [
        "#Tuples"
      ]
    },
    {
      "cell_type": "code",
      "metadata": {
        "id": "yb5DssVqTFO5",
        "colab": {
          "base_uri": "https://localhost:8080/"
        },
        "outputId": "ba850f67-8acd-4cb2-8c34-1eabbd07c6c2"
      },
      "source": [
        "#tuples-not editable ,we cannot  change tuples\n",
        "numbers=(1,2,3)\n",
        "print(numbers.count(2))\n",
        "print(numbers.index(3))#to get index careful if not found value error occur\n",
        "print(numbers[0])#accessing elts\n"
      ],
      "execution_count": null,
      "outputs": [
        {
          "output_type": "stream",
          "text": [
            "1\n",
            "2\n",
            "1\n"
          ],
          "name": "stdout"
        }
      ]
    },
    {
      "cell_type": "code",
      "metadata": {
        "id": "CoiVdkjiTI5v"
      },
      "source": [
        "#unpacking\n",
        "coordinates=(1,2,3)\n",
        "x=coordinates[0]\n",
        "y=coordinates[1]\n",
        "z=coordinates[2]\n",
        "#or u can use unpacking\n",
        "x,y,z=coordinates\n",
        "#use can use it for list also\n",
        " "
      ],
      "execution_count": null,
      "outputs": []
    },
    {
      "cell_type": "markdown",
      "metadata": {
        "id": "aaaN8BCwTdU2"
      },
      "source": [
        "# Dictionaries"
      ]
    },
    {
      "cell_type": "code",
      "metadata": {
        "id": "RJ0gsLBCTohu",
        "colab": {
          "base_uri": "https://localhost:8080/"
        },
        "outputId": "ec8bcc14-7a48-4acc-dc5d-c0cd7f6b00cd"
      },
      "source": [
        "#dictionaries\n",
        "customer={'name':'cel joy','age':30,\"is_verify\":True}\n",
        "#keys should be distinct\n",
        "print(customer['name'])#if invalid key,then key error\n",
        "print(customer.get('birthday'))#returns none if invalid\n",
        "print(customer.get('birthday','jan 1 1987'))#returns 2nd parameter if invalid key\n",
        "#to edit\n",
        "customer['name']='celestine'\n",
        "customer[\"birthday\"]='jan3 1994'#use can add new keys\n"
      ],
      "execution_count": null,
      "outputs": [
        {
          "output_type": "stream",
          "text": [
            "cel joy\n",
            "None\n",
            "jan 1 1987\n"
          ],
          "name": "stdout"
        }
      ]
    },
    {
      "cell_type": "code",
      "metadata": {
        "id": "9FtjCVMtTsu2",
        "colab": {
          "base_uri": "https://localhost:8080/"
        },
        "outputId": "bbefa5d5-fa8c-4158-d241-4966e76e9725"
      },
      "source": [
        "#pb input 1234; output in words\n",
        "number=input('phone:')\n",
        "Sum=''\n",
        "dict={'1':'one','2':'two','3':'three','4':'four','5':'five','6':'six','7':'seven','8':'eight','9':'nine'}\n",
        "for items in number:\n",
        "    Sum+=f'{dict[items]} '\n",
        "    #or Sum+=f'{dict.get(items,'invalid')} ' NB\n",
        "print(Sum)\n"
      ],
      "execution_count": null,
      "outputs": [
        {
          "output_type": "stream",
          "text": [
            "phone:6\n",
            "six \n"
          ],
          "name": "stdout"
        }
      ]
    },
    {
      "cell_type": "markdown",
      "metadata": {
        "id": "WMHqPdkZUEOc"
      },
      "source": [
        "#Functions"
      ]
    },
    {
      "cell_type": "code",
      "metadata": {
        "id": "oJET5EgoUPVA",
        "colab": {
          "base_uri": "https://localhost:8080/"
        },
        "outputId": "903af280-497b-4ef9-8521-78abe28c7d26"
      },
      "source": [
        "#functions\n",
        "def greet(name):\n",
        "    print(f'hi there{name}')\n",
        "    print('hail hydra')\n",
        "\n",
        "greet('john')"
      ],
      "execution_count": null,
      "outputs": [
        {
          "output_type": "stream",
          "text": [
            "hi therejohn\n",
            "hail hydra\n"
          ],
          "name": "stdout"
        }
      ]
    },
    {
      "cell_type": "markdown",
      "metadata": {
        "id": "DJC2WIJbUwHg"
      },
      "source": [
        "#Handle Error"
      ]
    },
    {
      "cell_type": "code",
      "metadata": {
        "id": "Nz9adPmbUUQN",
        "colab": {
          "base_uri": "https://localhost:8080/"
        },
        "outputId": "029efd70-0ff1-4eb4-f3cd-6114751cc560"
      },
      "source": [
        "#handle error\n",
        "try:\n",
        "    age=int(input('<'))\n",
        "    income=20000\n",
        "    risk=income/age#age cant be zero\n",
        "    print(age)\n",
        "except ZeroDivisionError:\n",
        "    print(\"age can't be Zero\")\n",
        "except ValueError:#happens while converting non numerical value to integer\n",
        "    print('invalid input')\n",
        "\n"
      ],
      "execution_count": null,
      "outputs": [
        {
          "output_type": "stream",
          "text": [
            "<21\n",
            "21\n"
          ],
          "name": "stdout"
        }
      ]
    },
    {
      "cell_type": "markdown",
      "metadata": {
        "id": "f6rH2T85VAY_"
      },
      "source": [
        "#Class"
      ]
    },
    {
      "cell_type": "code",
      "metadata": {
        "id": "BPBT3jITVH22",
        "colab": {
          "base_uri": "https://localhost:8080/"
        },
        "outputId": "f1573343-74d7-4241-9b8a-7cbd4bd15b33"
      },
      "source": [
        "#classes\n",
        "class point:\n",
        "    def move(self):\n",
        "        print('move')\n",
        "    def draw(self):\n",
        "        print('draw')\n",
        "\n",
        "point1=point()#creating instance\n",
        "point1.draw()\n",
        "point1.x=10#attributes\n",
        "point1.y=20\n",
        "print(point1.x)\n"
      ],
      "execution_count": null,
      "outputs": [
        {
          "output_type": "stream",
          "text": [
            "draw\n",
            "10\n"
          ],
          "name": "stdout"
        }
      ]
    },
    {
      "cell_type": "code",
      "metadata": {
        "id": "_PQLW62PVaXi",
        "colab": {
          "base_uri": "https://localhost:8080/"
        },
        "outputId": "42d2e95b-01de-4f7e-8a7f-4673d86af3f7"
      },
      "source": [
        "#class\n",
        "class point:\n",
        "    def __init__(self,x,y):#constructor\n",
        "        self.x=x\n",
        "        self.y=y\n",
        "\n",
        "    def move(self):\n",
        "        print('move')\n",
        "    def draw(self):\n",
        "        print('draw')\n",
        "\n",
        "point1=point(2,3)\n",
        "print(point1.y)"
      ],
      "execution_count": null,
      "outputs": [
        {
          "output_type": "stream",
          "text": [
            "3\n"
          ],
          "name": "stdout"
        }
      ]
    },
    {
      "cell_type": "code",
      "metadata": {
        "id": "24QeKtS2Vm8G",
        "colab": {
          "base_uri": "https://localhost:8080/"
        },
        "outputId": "931dfd75-ed77-4197-d62c-17a42880b114"
      },
      "source": [
        "class person:\n",
        "    def __init__(self,name):\n",
        "        self.name=name\n",
        "    def talk(self):\n",
        "        print(f'{self.name}, please talk')\n",
        "    \n",
        "\n",
        "p1=person('Celestine JOY')\n",
        "print(p1.name)\n",
        "p1.talk()\n"
      ],
      "execution_count": null,
      "outputs": [
        {
          "output_type": "stream",
          "text": [
            "Celestine JOY\n",
            "Celestine JOY, please talk\n"
          ],
          "name": "stdout"
        }
      ]
    },
    {
      "cell_type": "markdown",
      "metadata": {
        "id": "pQZWu2EWVsjn"
      },
      "source": [
        "#Inheritance"
      ]
    },
    {
      "cell_type": "code",
      "metadata": {
        "id": "i3YNLpJYVwy_",
        "colab": {
          "base_uri": "https://localhost:8080/"
        },
        "outputId": "d79ac863-f2b5-4797-e332-0d96c92b370a"
      },
      "source": [
        "#inheritance\n",
        "class mammal:\n",
        "    def walk(self):\n",
        "        print(\"walk\")\n",
        "\n",
        "class dog(mammal):#u can use methods of mammals in dog also\n",
        "    def bark(self):\n",
        "        print(\"bark\")\n",
        "\n",
        "class cat(mammal):\n",
        "    def annoy(self):\n",
        "        print(\"annoy\")\n",
        "\n",
        "class mouse(mammal):\n",
        "    pass#if we dont have anything to add\n",
        "\n",
        "dog1=dog()\n",
        "dog1.walk()\n",
        "dog1.bark()\n",
        "cat1=cat()\n",
        "cat1.annoy()\n",
        "mouse1=mouse()\n",
        "mouse1.walk()\n"
      ],
      "execution_count": null,
      "outputs": [
        {
          "output_type": "stream",
          "text": [
            "walk\n",
            "bark\n",
            "annoy\n",
            "walk\n"
          ],
          "name": "stdout"
        }
      ]
    },
    {
      "cell_type": "markdown",
      "metadata": {
        "id": "V7W-S1y2qxO-"
      },
      "source": [
        "#Build-in Modules"
      ]
    },
    {
      "cell_type": "markdown",
      "metadata": {
        "id": "3Iq8r_UxrafD"
      },
      "source": [
        "##Random Module"
      ]
    },
    {
      "cell_type": "code",
      "metadata": {
        "id": "ErV3w43RsI3z",
        "colab": {
          "base_uri": "https://localhost:8080/"
        },
        "outputId": "23ea67e7-f7ad-4fa4-d7b2-0960be30aff2"
      },
      "source": [
        "#builtin modules-random module\n",
        "import random#importing module\n",
        "for i in range(3):\n",
        "    print(random.random())#returns value btw 0 and 1\n",
        "for i in range(3):\n",
        "    print(random.randint(10,20))#returns arbitrary value btw 10 and 20(included)\n",
        "#if u want to randomly choose something\n",
        "members=['Cel','galdin','sheena','joy']\n",
        "leader=random.choice(members)\n",
        "print(leader)\n"
      ],
      "execution_count": null,
      "outputs": [
        {
          "output_type": "stream",
          "text": [
            "0.0721128735199652\n",
            "0.3437654432062057\n",
            "0.6396442292612928\n",
            "16\n",
            "12\n",
            "13\n",
            "galdin\n"
          ],
          "name": "stdout"
        }
      ]
    },
    {
      "cell_type": "code",
      "metadata": {
        "id": "A5OoKItysp3w",
        "colab": {
          "base_uri": "https://localhost:8080/"
        },
        "outputId": "034bd12d-7d20-41b7-d264-495b6adf30f0"
      },
      "source": [
        "#import random\n",
        "#class dice:\n",
        "#   def roll(self):\n",
        "#       tup=(1,2,3,4,5,6)\n",
        "#       tup1=(random.choice(tup),random.choice(tup))\n",
        "#       return(tup1)\n",
        "\n",
        "#d1=dice()\n",
        "#print(d1.roll())\n",
        "#or\n",
        "# import random\n",
        "# class dice:\n",
        "#   def roll(self):\n",
        "#       return random.randint(1,6),random.randint(1,6) #\"( )\",these are not necessary in returning tuples.\n",
        "#d1=dice()\n",
        "#print(d1.roll())\n",
        "import random\n",
        "class dice:\n",
        "    def roll(self):\n",
        "        return (random.randint(1,6),random.randint(1,6))\n",
        "d1=dice()\n",
        "print(d1.roll())"
      ],
      "execution_count": null,
      "outputs": [
        {
          "output_type": "stream",
          "text": [
            "(4, 5)\n"
          ],
          "name": "stdout"
        }
      ]
    },
    {
      "cell_type": "markdown",
      "metadata": {
        "id": "hDSaWuwo2VAG"
      },
      "source": [
        "#Import user defined modules"
      ]
    },
    {
      "cell_type": "code",
      "metadata": {
        "colab": {
          "base_uri": "https://localhost:8080/"
        },
        "id": "XW734u_F2dt4",
        "outputId": "e5d8dca4-abc0-4c64-94a9-e1b9c7abe1f9"
      },
      "source": [
        "import sys\n",
        "sys.path.append('/content/drive/MyDrive/Colab Notebooks')\n",
        "#if it is in the same folder u can ignore above statements\n",
        "import py44\n",
        "print(py44.lbs_to_kg(70))\n",
        "#or  to import specific fns\n",
        "from py44 import lbs_to_kg#press ctrl+space to see list of functions\n",
        "print(lbs_to_kg(80))"
      ],
      "execution_count": null,
      "outputs": [
        {
          "output_type": "stream",
          "text": [
            "31.5\n",
            "36.0\n"
          ],
          "name": "stdout"
        }
      ]
    },
    {
      "cell_type": "code",
      "metadata": {
        "colab": {
          "base_uri": "https://localhost:8080/"
        },
        "id": "NDYhqa3E9Jei",
        "outputId": "58b1476a-3e91-4f9b-bec3-9effbaf179f5"
      },
      "source": [
        "import sys\n",
        "sys.path.append('/content/drive/MyDrive/Colab Notebooks')\n",
        "import utils\n",
        "number=[1,3,2,7,3]\n",
        "print(utils.find_max(number))"
      ],
      "execution_count": null,
      "outputs": [
        {
          "output_type": "stream",
          "text": [
            "7\n"
          ],
          "name": "stdout"
        }
      ]
    },
    {
      "cell_type": "code",
      "metadata": {
        "colab": {
          "base_uri": "https://localhost:8080/"
        },
        "id": "AN2MRYPd9nPn",
        "outputId": "964597d2-d1eb-428c-c127-8d7e6a12eb73"
      },
      "source": [
        "import sys\n",
        "sys.path.append('/content/drive/MyDrive/Colab Notebooks/ecommerce')\n",
        "\n",
        "import shipping\n",
        "shipping.calc_shipping()\n",
        "#or\n",
        "import shipping#u can put coma to import multiple module\n",
        "shipping.calc_shipping()\n",
        "#or\n",
        "from shipping import calc_shipping\n",
        "calc_shipping()"
      ],
      "execution_count": null,
      "outputs": [
        {
          "output_type": "stream",
          "text": [
            "calc_shipping\n",
            "calc_shipping\n",
            "calc_shipping\n"
          ],
          "name": "stdout"
        }
      ]
    },
    {
      "cell_type": "markdown",
      "metadata": {
        "id": "mOw9wG3ctu7w"
      },
      "source": [
        "#Data Structures"
      ]
    },
    {
      "cell_type": "markdown",
      "metadata": {
        "id": "L3oE0am3t5MT"
      },
      "source": [
        "##Linked List"
      ]
    },
    {
      "cell_type": "code",
      "metadata": {
        "id": "o0fEoQ7Ct8Kq",
        "colab": {
          "base_uri": "https://localhost:8080/"
        },
        "outputId": "9291a41a-3480-4773-92b1-c99b305f4cf5"
      },
      "source": [
        "class Node:\n",
        "    def __init__(self,data=None,next=None):\n",
        "        self.data=data\n",
        "        self.next=next\n",
        "\n",
        "class LinkedList:\n",
        "    def __init__(self):\n",
        "        self.head=None\n",
        "\n",
        "    def insert_at_front(self,data):\n",
        "        node=Node(data,self.head)\n",
        "        self.head=node\n",
        "    \n",
        "    def print(self):\n",
        "        if not self.head:\n",
        "            print('empty list')\n",
        "            return\n",
        "        else:\n",
        "            p=self.head\n",
        "            s=''\n",
        "            while p:\n",
        "                s+=f'{p.data}---'\n",
        "                p=p.next\n",
        "            print(s)\n",
        "    def insert_at_back(self,data):\n",
        "        if not self.head:\n",
        "            self.head=Node(data)\n",
        "            return\n",
        "        else:\n",
        "            p=self.head\n",
        "            while p.next:\n",
        "                p=p.next\n",
        "            p.next=Node(data)\n",
        "            return\n",
        "    def insert_all_values(self,data_list):\n",
        "        for data in data_list:\n",
        "            self.insert_at_back(data)\n",
        "    \n",
        "    def get_length(self):\n",
        "        p=self.head\n",
        "        c=0\n",
        "        while p:\n",
        "            c+=1\n",
        "            p=p.next\n",
        "        return c\n",
        "    \n",
        "    def remove_at_index(self,index):\n",
        "        if index<0 or index>=self.get_length():\n",
        "            raise Exception(\"Invalid Index\")\n",
        "        if index==0:\n",
        "            self.head=self.head.next\n",
        "            return\n",
        "        c=0\n",
        "        p=self.head\n",
        "        while p:\n",
        "            if c==index-1:\n",
        "                p.next=p.next.next\n",
        "                break\n",
        "            p=p.next\n",
        "            c+=1\n",
        "    def insert_at(self,index,data):\n",
        "        if index<0 or index>=self.get_length():\n",
        "            raise Exception(\"Invalid Index\")\n",
        "        if index==0:\n",
        "            self.insert_at_front(data)\n",
        "            return\n",
        "        p=self.head\n",
        "        c=0\n",
        "        while p:\n",
        "            if c==index-1:\n",
        "                node=Node(data,p.next)\n",
        "                p.next=node\n",
        "                break\n",
        "            p=p.next\n",
        "            c+=1\n",
        "\n",
        "            \n",
        "\n",
        "\n",
        "if __name__=='__main__':\n",
        "    l1=LinkedList()\n",
        "    l1.insert_at_front(5)\n",
        "    l1.insert_at_front(89)\n",
        "    l1.insert_at_back(10)\n",
        "    l1.print()\n",
        "    l2=LinkedList()\n",
        "    l2.insert_all_values([1,2,3,7,4,5])\n",
        "    l2.print()\n",
        "    print(l2.get_length())\n",
        "    l3=LinkedList()\n",
        "    l3.insert_all_values(['cel','gal','she','joy'])\n",
        "    l3.remove_at_index(2)\n",
        "    l3.print()\n",
        "    l3.insert_at(2,'sheena')\n",
        "    l3.print()"
      ],
      "execution_count": null,
      "outputs": [
        {
          "output_type": "stream",
          "text": [
            "89---5---10---\n",
            "1---2---3---7---4---5---\n",
            "6\n",
            "cel---gal---joy---\n",
            "cel---gal---sheena---joy---\n"
          ],
          "name": "stdout"
        }
      ]
    },
    {
      "cell_type": "code",
      "metadata": {
        "id": "JXGbtfaIuvIN",
        "colab": {
          "base_uri": "https://localhost:8080/"
        },
        "outputId": "cd377afa-35ee-457a-c371-84016aa1bdb7"
      },
      "source": [
        "class Node:\n",
        "    def __init__(self,data=None,next=None):\n",
        "        self.data=data\n",
        "        self.next=next\n",
        "\n",
        "class LinkedList:\n",
        "    def __init__(self):\n",
        "        self.head=None\n",
        "\n",
        "    def insert_at_front(self,data):\n",
        "        node=Node(data,self.head)\n",
        "        self.head=node\n",
        "    \n",
        "    def print(self):\n",
        "        if not self.head:\n",
        "            print('empty list')\n",
        "            return\n",
        "        else:\n",
        "            p=self.head\n",
        "            s=''\n",
        "            while p:\n",
        "                s+=f'{p.data}---'\n",
        "                p=p.next\n",
        "            print(s)\n",
        "    def insert_at_back(self,data):\n",
        "        if not self.head:\n",
        "            self.head=Node(data)\n",
        "            return\n",
        "        else:\n",
        "            p=self.head\n",
        "            while p.next:\n",
        "                p=p.next\n",
        "            p.next=Node(data)\n",
        "            return\n",
        "    def insert_all_values(self,data_list):\n",
        "        for data in data_list:\n",
        "            self.insert_at_back(data)\n",
        "    \n",
        "    def get_length(self):\n",
        "        p=self.head\n",
        "        c=0\n",
        "        while p:\n",
        "            c+=1\n",
        "            p=p.next\n",
        "        return c\n",
        "    \n",
        "    def remove_at_index(self,index):\n",
        "        if index<0 or index>=self.get_length():\n",
        "            raise Exception(\"Invalid Index\")\n",
        "        if index==0:\n",
        "            self.head=self.head.next\n",
        "            return\n",
        "        c=0\n",
        "        p=self.head\n",
        "        while p:\n",
        "            if c==index-1:\n",
        "                p.next=p.next.next\n",
        "                break\n",
        "            p=p.next\n",
        "            c+=1\n",
        "    def insert_at(self,index,data):\n",
        "        if index<0 or index>=self.get_length():\n",
        "            raise Exception(\"Invalid Index\")\n",
        "        if index==0:\n",
        "            self.insert_at_front(data)\n",
        "            return\n",
        "        p=self.head\n",
        "        c=0\n",
        "        while p:\n",
        "            if c==index-1:\n",
        "                node=Node(data,p.next)\n",
        "                p.next=node\n",
        "                break\n",
        "            p=p.next\n",
        "            c+=1\n",
        "\n",
        "    def insert_after_value(self, data_after, data_to_insert):\n",
        "        p=self.head\n",
        "        while p:\n",
        "            if p.data==data_after:\n",
        "                node=Node(data_to_insert,p.next)\n",
        "                p.next=node\n",
        "                break\n",
        "            p=p.next\n",
        "        else:\n",
        "            print('data_after not Found')\n",
        "    \n",
        "    def remove_by_value(self, data):\n",
        "        if self.head.data == data:\n",
        "            self.head = self.head.next\n",
        "            return\n",
        "        p=self.head\n",
        "        while p:\n",
        "            if p.next and p.next.data==data:\n",
        "                p.next=p.next.next\n",
        "                break\n",
        "            p=p.next\n",
        "        else:\n",
        "            print('data not Found')\n",
        "\n",
        "\n",
        "if __name__=='__main__':\n",
        "    ll = LinkedList()\n",
        "    ll.insert_all_values([\"banana\",\"mango\",\"grapes\",\"orange\"])\n",
        "    ll.print()\n",
        "    ll.insert_after_value(\"mango\",\"apple\") # insert apple after mango\n",
        "    ll.print()\n",
        "    ll.remove_by_value(\"orange\") # remove orange from linked list\n",
        "    ll.print()\n",
        "    ll.remove_by_value(\"figs\")\n",
        "    ll.print()\n",
        "    ll.remove_by_value(\"banana\")\n",
        "    ll.remove_by_value(\"mango\")\n",
        "    ll.remove_by_value(\"apple\")\n",
        "    ll.remove_by_value(\"grapes\")\n",
        "    ll.print()\n",
        "\n",
        "   \n"
      ],
      "execution_count": null,
      "outputs": [
        {
          "output_type": "stream",
          "text": [
            "banana---mango---grapes---orange---\n",
            "banana---mango---apple---grapes---orange---\n",
            "banana---mango---apple---grapes---\n",
            "data not Found\n",
            "banana---mango---apple---grapes---\n",
            "empty list\n"
          ],
          "name": "stdout"
        }
      ]
    },
    {
      "cell_type": "markdown",
      "metadata": {
        "id": "c_HnVz_3u3uP"
      },
      "source": [
        "##Double linked list"
      ]
    },
    {
      "cell_type": "code",
      "metadata": {
        "id": "uC4YIVlPu9Zh",
        "colab": {
          "base_uri": "https://localhost:8080/"
        },
        "outputId": "42470ed4-dbfb-4d71-d517-8481f9c0f753"
      },
      "source": [
        "class Node:\n",
        "    def __init__(self, data=None, next=None, prev=None):\n",
        "        self.data = data\n",
        "        self.next = next\n",
        "        self.prev = prev\n",
        "\n",
        "class double_LL:\n",
        "    def __init__(self):\n",
        "        self.head=None\n",
        "\n",
        "    def insert_at_front(self,data):\n",
        "        self.head=Node(data,self.head)\n",
        "        self.head.next.prev=self.head\n",
        "\n",
        "    def print(self):\n",
        "        if not self.head:\n",
        "            print('empty list')\n",
        "            return\n",
        "        else:\n",
        "            p=self.head\n",
        "            s=''\n",
        "            while p:\n",
        "                s+=f'{p.data}---'\n",
        "                p=p.next\n",
        "            print(s)\n",
        "    \n",
        "    def insert_at_back(self,data):\n",
        "        if not self.head:\n",
        "            self.head=Node(data)\n",
        "            return\n",
        "        else:\n",
        "            p=self.head\n",
        "            while p.next:\n",
        "                p=p.next\n",
        "            p.next=Node(data,None,p)\n",
        "            return\n",
        "    \n",
        "    def insert_all_values(self,data_list):\n",
        "        for data in data_list:\n",
        "            self.insert_at_back(data)\n",
        "    \n",
        "    def get_length(self):\n",
        "        p=self.head\n",
        "        c=0\n",
        "        while p:\n",
        "            c+=1\n",
        "            p=p.next\n",
        "        return c\n",
        "\n",
        "    def remove_at_index(self,index):\n",
        "        if index<0 or index>=self.get_length():\n",
        "            raise Exception(\"Invalid Index\")\n",
        "        if index==0:\n",
        "            self.head=self.head.next\n",
        "            return\n",
        "        c=0\n",
        "        p=self.head\n",
        "        while p:\n",
        "            if c==index-1:\n",
        "                p.next=p.next.next\n",
        "                p.next.prev=p\n",
        "                break\n",
        "            p=p.next\n",
        "            c+=1\n",
        "        \n",
        "    def insert_at(self,index,data):\n",
        "        if index<0 or index>=self.get_length():\n",
        "            raise Exception(\"Invalid Index\")\n",
        "        if index==0:\n",
        "            self.insert_at_front(data)\n",
        "            return\n",
        "        p=self.head\n",
        "        c=0\n",
        "        while p:\n",
        "            if c==index-1:\n",
        "                node=Node(data,p.next,p)\n",
        "                p.next=node\n",
        "                node.next.prev=node\n",
        "                break\n",
        "            p=p.next\n",
        "            c+=1\n",
        "\n",
        "    def insert_after_value(self, data_after, data_to_insert):\n",
        "        p=self.head\n",
        "        while p:\n",
        "            if p.data==data_after:\n",
        "                node=Node(data_to_insert,p.next,p)\n",
        "                p.next=node\n",
        "                node.next.prev=node\n",
        "                break\n",
        "            p=p.next\n",
        "        else:\n",
        "            print('data_after not Found')\n",
        "    \n",
        "    def remove_by_value(self, data):\n",
        "        if self.head.data == data:\n",
        "            self.head = self.head.next\n",
        "            return\n",
        "        p=self.head\n",
        "        while p:\n",
        "            if p.next and p.next.data==data:\n",
        "                p.next=p.next.next\n",
        "                if p.next:\n",
        "                    p.next.prev=p\n",
        "                break\n",
        "            p=p.next\n",
        "        else:\n",
        "            print('data not Found')\n",
        "\n",
        "if __name__=='__main__':\n",
        "    ll = double_LL()\n",
        "    ll.insert_all_values([\"banana\",\"mango\",\"grapes\",\"orange\"])\n",
        "    ll.print()\n",
        "    ll.insert_after_value(\"mango\",\"apple\") # insert apple after mango\n",
        "    ll.print()\n",
        "    ll.remove_by_value(\"orange\") # remove orange from linked list\n",
        "    ll.print()\n",
        "    ll.remove_by_value(\"figs\")\n",
        "    ll.print()\n",
        "    ll.remove_by_value(\"banana\")\n",
        "    ll.remove_by_value(\"mango\")\n",
        "    ll.remove_by_value(\"apple\")\n",
        "    ll.remove_by_value(\"grapes\")\n",
        "    ll.print()"
      ],
      "execution_count": null,
      "outputs": [
        {
          "output_type": "stream",
          "text": [
            "banana---mango---grapes---orange---\n",
            "banana---mango---apple---grapes---orange---\n",
            "banana---mango---apple---grapes---\n",
            "data not Found\n",
            "banana---mango---apple---grapes---\n",
            "empty list\n"
          ],
          "name": "stdout"
        }
      ]
    },
    {
      "cell_type": "markdown",
      "metadata": {
        "id": "UO9iHGhwvJWm"
      },
      "source": [
        "##Hashing"
      ]
    },
    {
      "cell_type": "markdown",
      "metadata": {
        "id": "3U4IIIrnvbU3"
      },
      "source": [
        "###Hash Table"
      ]
    },
    {
      "cell_type": "code",
      "metadata": {
        "id": "HDzTZP4avoty",
        "colab": {
          "base_uri": "https://localhost:8080/"
        },
        "outputId": "eef56252-def9-4a95-ad24-54451b9247cc"
      },
      "source": [
        "class hashtable:\n",
        "    def __init__(self):\n",
        "        self.max=100\n",
        "        self.arr=[None for i in range(self.max)]\n",
        "\n",
        "    def get_hash(self,key):#our hash fn is sum of ascii values of key modulus 100\n",
        "        Sum=0\n",
        "        for char in key:\n",
        "            Sum+=ord(char)#returns ascii value of character\n",
        "        return Sum%self.max\n",
        "    \n",
        "    #def add(self,key,value):\n",
        "    #    h=self.get_hash(key)\n",
        "    #   self.arr[h]=value\n",
        "    #or u can use below fn \n",
        "\n",
        "    def __setitem__(self,key,value):#to set the value of arr at index key to value\n",
        "        h=self.get_hash(key)  #here u can use like arr[key]=value to call\n",
        "        self.arr[h]=value\n",
        "\n",
        "    def __getitem__(self,key):\n",
        "        h=self.get_hash(key)   #here u can use arr[key] while calling instead p1.some_fn(key)\n",
        "        return self.arr[h]\n",
        "    \n",
        "    def __delitem__(self,key):#standard operators in python\n",
        "        h=self.get_hash(key)\n",
        "        self.arr[h]=None\n",
        "\n",
        "t=hashtable()\n",
        "t['march 6']=130\n",
        "t['march 1']=20\n",
        "t['dec 17']=27\n",
        "print(t['march 6'])\n",
        "del t['march 1']\n",
        "print(t['march 1'])\n",
        "\n"
      ],
      "execution_count": null,
      "outputs": [
        {
          "output_type": "stream",
          "text": [
            "130\n",
            "None\n"
          ],
          "name": "stdout"
        }
      ]
    },
    {
      "cell_type": "markdown",
      "metadata": {
        "id": "W1-ngHQzvu3i"
      },
      "source": [
        "###Hash Chaining"
      ]
    },
    {
      "cell_type": "code",
      "metadata": {
        "id": "Y4aKDENNvtTt",
        "colab": {
          "base_uri": "https://localhost:8080/"
        },
        "outputId": "0fb334f4-a26f-44f2-cbf7-15c9b83a8279"
      },
      "source": [
        "class hashtable:\n",
        "    def __init__(self):\n",
        "        self.max=10\n",
        "        self.arr=[[] for i in range(self.max)]#we will be storing both index and key\n",
        "\n",
        "    def get_hash(self,key):#our hash fn is sum of ascii values of key modulus 100\n",
        "        Sum=0\n",
        "        for char in key:\n",
        "            Sum+=ord(char)#returns ascii value of character\n",
        "        return Sum%self.max\n",
        "    \n",
        "    #def add(self,key,value):\n",
        "    #    h=self.get_hash(key)\n",
        "    #   self.arr[h]=value\n",
        "    #or u can use below fn \n",
        "\n",
        "    def __setitem__(self,key,value):#to set the value of arr at index key to value\n",
        "        h=self.get_hash(key)  #here u can use like arr[key]=value to call\n",
        "        flag=False\n",
        "        for idx,element in enumerate(self.arr[h]):#\n",
        "            if len(element)==2 and element[0]==key:\n",
        "                self.arr[h][idx]=(key,value)\n",
        "                flag =True\n",
        "                break\n",
        "        if not flag:\n",
        "            self.arr[h].append((key,value))\n",
        "\n",
        "    def __getitem__(self,key):#here u can use arr[key] while calling instead p1.some_fn(key)\n",
        "        h=self.get_hash(key)\n",
        "        for elt in self.arr[h]:\n",
        "            if elt[0]==key:\n",
        "                return elt[1]\n",
        "        #when u did not return anything python default returns None\n",
        "    \n",
        "    def __delitem__(self,key):#standard operators in python\n",
        "        h=self.get_hash(key)\n",
        "        for idx,element in enumerate(self.arr[h]):#\n",
        "            if len(element)==2 and element[0]==key:\n",
        "                del self.arr[h][idx]\n",
        "                return\n",
        "\n",
        "t=hashtable()\n",
        "t['march 6']=120\n",
        "t['march 6']=78\n",
        "t['march 8']=67\n",
        "t['march 9']=4\n",
        "t['march 17']=459\n",
        "print(t.arr)\n",
        "print(t['march 6'])\n",
        "#del t['march 1']\n",
        "print(t['march 17'])\n",
        "del t['march 17']\n",
        "print(t.arr)"
      ],
      "execution_count": null,
      "outputs": [
        {
          "output_type": "stream",
          "text": [
            "[[], [('march 8', 67)], [('march 9', 4)], [], [], [], [], [], [], [('march 6', 78), ('march 17', 459)]]\n",
            "78\n",
            "459\n",
            "[[], [('march 8', 67)], [('march 9', 4)], [], [], [], [], [], [], [('march 6', 78)]]\n"
          ],
          "name": "stdout"
        }
      ]
    },
    {
      "cell_type": "markdown",
      "metadata": {
        "id": "FUWgVG2Pv5Y5"
      },
      "source": [
        "###Hash Linear Probing"
      ]
    },
    {
      "cell_type": "code",
      "metadata": {
        "id": "O6vnORG8wESU",
        "colab": {
          "base_uri": "https://localhost:8080/"
        },
        "outputId": "a2965c09-57f7-4b01-bf3c-15cb14df504d"
      },
      "source": [
        "class hashtable:\n",
        "    def __init__(self):\n",
        "        self.max=10\n",
        "        self.arr=[None for i in range(self.max)]\n",
        "\n",
        "    def get_hash(self,key):#our hash fn is sum of ascii values of key modulus 100\n",
        "        Sum=0\n",
        "        for char in key:\n",
        "            Sum+=ord(char)#returns ascii value of character\n",
        "        return Sum%self.max\n",
        "\n",
        "    def __setitem__(self,key,value):#to set the value of arr at index key to value\n",
        "        h=self.get_hash(key)\n",
        "        c=h\n",
        "        while self.arr[h]:\n",
        "            if self.arr[h][0]==key:\n",
        "                self.arr[h]=(key,value)\n",
        "                return\n",
        "            if h==self.max-1:\n",
        "                h=0\n",
        "            else:\n",
        "                h+=1\n",
        "            if c==h:\n",
        "                raise Exception(\"Hashmap full\")\n",
        "                return\n",
        "        self.arr[h]=(key,value)\n",
        "\n",
        "    def __getitem__(self,key):#here u can use arr[key] while calling instead p1.some_fn(key)\n",
        "        h=self.get_hash(key)\n",
        "        while self.arr[h]:\n",
        "            if self.arr[h][0]==key:\n",
        "                return self.arr[h][1]\n",
        "            if h==self.max-1:\n",
        "                h=0\n",
        "            else:\n",
        "                h+=1\n",
        "\n",
        "    def __delitem__(self,key):#standard operators in python\n",
        "        h=self.get_hash(key)\n",
        "        while self.arr[h]:\n",
        "            if self.arr[h][0]==key:\n",
        "                self.arr[h]=None\n",
        "                return\n",
        "            if h==self.max-1:\n",
        "                h=0\n",
        "            else:\n",
        "                h+=1\n",
        "\n",
        "t = hashtable()\n",
        "t[\"march 6\"] = 20\n",
        "t[\"march 17\"] =  88\n",
        "print(t.arr)\n",
        "t[\"march 17\"] = 29\n",
        "print(t.arr)\n",
        "t[\"nov 1\"] = 1\n",
        "print(t.arr)\n",
        "t[\"march 33\"] = 234\n",
        "print(t.arr)\n",
        "print(t[\"dec 1\"])\n",
        "print(t[\"march 33\"])\n",
        "t[\"march 33\"] = 999\n",
        "print(t.arr)\n",
        "print(t[\"march 33\"])\n",
        "t[\"april 1\"]=87\n",
        "t[\"april 2\"]=123\n",
        "t[\"april 3\"]=234234\n",
        "print(t.arr)\n",
        "t[\"april 4\"]=91\n",
        "t[\"May 22\"]=4\n",
        "t[\"May 7\"]=47\n",
        "print(t.arr)\n",
        "del t[\"april 2\"]\n",
        "print(t.arr)\n",
        "t[\"Jan 1\"]=0\n",
        "print(t.arr)"
      ],
      "execution_count": null,
      "outputs": [
        {
          "output_type": "stream",
          "text": [
            "[('march 17', 88), None, None, None, None, None, None, None, None, ('march 6', 20)]\n",
            "[('march 17', 29), None, None, None, None, None, None, None, None, ('march 6', 20)]\n",
            "[('march 17', 29), ('nov 1', 1), None, None, None, None, None, None, None, ('march 6', 20)]\n",
            "[('march 17', 29), ('nov 1', 1), None, None, None, None, None, ('march 33', 234), None, ('march 6', 20)]\n",
            "None\n",
            "234\n",
            "[('march 17', 29), ('nov 1', 1), None, None, None, None, None, ('march 33', 999), None, ('march 6', 20)]\n",
            "999\n",
            "[('march 17', 29), ('nov 1', 1), ('april 2', 123), ('april 3', 234234), None, None, None, ('march 33', 999), ('april 1', 87), ('march 6', 20)]\n",
            "[('march 17', 29), ('nov 1', 1), ('april 2', 123), ('april 3', 234234), ('april 4', 91), ('May 22', 4), ('May 7', 47), ('march 33', 999), ('april 1', 87), ('march 6', 20)]\n",
            "[('march 17', 29), ('nov 1', 1), None, ('april 3', 234234), ('april 4', 91), ('May 22', 4), ('May 7', 47), ('march 33', 999), ('april 1', 87), ('march 6', 20)]\n",
            "[('march 17', 29), ('nov 1', 1), ('Jan 1', 0), ('april 3', 234234), ('april 4', 91), ('May 22', 4), ('May 7', 47), ('march 33', 999), ('april 1', 87), ('march 6', 20)]\n"
          ],
          "name": "stdout"
        }
      ]
    },
    {
      "cell_type": "markdown",
      "metadata": {
        "id": "EobbAk7SwKJe"
      },
      "source": [
        "###Hash Exercises"
      ]
    },
    {
      "cell_type": "code",
      "metadata": {
        "id": "W_tyg7VpwN86",
        "colab": {
          "base_uri": "https://localhost:8080/",
          "height": 248
        },
        "outputId": "7777c2e9-18d8-4823-c036-16310aae5eca"
      },
      "source": [
        "'''\n",
        "(1) nyc_weather.csv contains new york city weather for first few days in the month of January. Write a program that can answer following,\n",
        "\n",
        "  (a) What was the average temperature in first week of Jan\n",
        "\n",
        "  (b) What was the maximum temperature in first 10 days of Jan\n",
        "\n",
        "  Figure out data structure that is best for this problem'''\n",
        "weather=[]\n",
        "with open(\"/content/drive/MyDrive/Colab Notebooks/nyc_weather.csv\",\"r\") as f:\n",
        "    for line in f:\n",
        "        token =line.split(',')\n",
        "        try:\n",
        "            temp=int(token[1])\n",
        "            weather.append(temp)\n",
        "        except:\n",
        "            print('invalid temperature')\n",
        "print(weather)\n",
        "#a\n",
        "print(f'average temp of first week= {sum(weather[0:7])/len(weather[0:7])}')#may show error in notebook because sum function is overloaded\n",
        "print(f'maximum temp of first 10 days ={max(weather[0:10])}')"
      ],
      "execution_count": null,
      "outputs": [
        {
          "output_type": "stream",
          "text": [
            "invalid temperature\n",
            "[27, 31, 23, 34, 37, 38, 29, 30, 35, 30]\n"
          ],
          "name": "stdout"
        },
        {
          "output_type": "error",
          "ename": "TypeError",
          "evalue": "ignored",
          "traceback": [
            "\u001b[0;31m---------------------------------------------------------------------------\u001b[0m",
            "\u001b[0;31mTypeError\u001b[0m                                 Traceback (most recent call last)",
            "\u001b[0;32m<ipython-input-156-bd880f87828b>\u001b[0m in \u001b[0;36m<module>\u001b[0;34m()\u001b[0m\n\u001b[1;32m     18\u001b[0m \u001b[0mprint\u001b[0m\u001b[0;34m(\u001b[0m\u001b[0mweather\u001b[0m\u001b[0;34m)\u001b[0m\u001b[0;34m\u001b[0m\u001b[0;34m\u001b[0m\u001b[0m\n\u001b[1;32m     19\u001b[0m \u001b[0;31m#a\u001b[0m\u001b[0;34m\u001b[0m\u001b[0;34m\u001b[0m\u001b[0;34m\u001b[0m\u001b[0m\n\u001b[0;32m---> 20\u001b[0;31m \u001b[0mprint\u001b[0m\u001b[0;34m(\u001b[0m\u001b[0;34mf'average temp of first week= {sum(weather[0:7])/len(weather[0:7])}'\u001b[0m\u001b[0;34m)\u001b[0m\u001b[0;31m#may show error in notebook because sum function is overloaded\u001b[0m\u001b[0;34m\u001b[0m\u001b[0;34m\u001b[0m\u001b[0m\n\u001b[0m\u001b[1;32m     21\u001b[0m \u001b[0mprint\u001b[0m\u001b[0;34m(\u001b[0m\u001b[0;34mf'maximum temp of first 10 days ={max(weather[0:10])}'\u001b[0m\u001b[0;34m)\u001b[0m\u001b[0;34m\u001b[0m\u001b[0;34m\u001b[0m\u001b[0m\n",
            "\u001b[0;31mTypeError\u001b[0m: 'str' object is not callable"
          ]
        }
      ]
    },
    {
      "cell_type": "code",
      "metadata": {
        "id": "eX_ydbQrwTxZ"
      },
      "source": [
        "'''\n",
        "nyc_weather.csv contains new york city weather for first few days in the month of January. Write a program that can answer following,\n",
        "What was the temperature on Jan 9?\n",
        "What was the temperature on Jan 4?\n",
        "Figure out data structure that is best for this problem\n",
        "'''\n",
        "weather={}\n",
        "with open(\"/content/drive/MyDrive/Colab Notebooks/nyc_weather.csv\",'r') as f:\n",
        "    for line in f:\n",
        "        token =line.split(',')\n",
        "        try:\n",
        "            date =token[0]\n",
        "            temperature=int(token[1])\n",
        "            weather[date]=temperature\n",
        "        except:\n",
        "            print(\"invalid temperature\")\n",
        "\n",
        "print(weather['Jan 9'])\n",
        "print(weather['Jan 4'])\n",
        "\n"
      ],
      "execution_count": null,
      "outputs": []
    },
    {
      "cell_type": "code",
      "metadata": {
        "id": "s1rBCSu6OBiF"
      },
      "source": [
        "from google.colab import drive\n",
        "drive.mount('/content/drive')"
      ],
      "execution_count": null,
      "outputs": []
    },
    {
      "cell_type": "code",
      "metadata": {
        "id": "nK3fRPYkwbig"
      },
      "source": [
        "poem={}\n",
        "with open('/content/drive/MyDrive/Colab Notebooks/poem.txt','r') as f:#poem is in content folder in colab\n",
        "    for line in f:\n",
        "        tokens= line.split(' ')\n",
        "        for i in tokens:\n",
        "            if i in poem:\n",
        "                poem[i]+=1\n",
        "            else:\n",
        "                poem[i]=1\n",
        "    \n",
        "print(poem)\n",
        "print(poem['diverged'])\n",
        "print(poem['in'])\n",
        "print(poem['I'])\n"
      ],
      "execution_count": null,
      "outputs": []
    },
    {
      "cell_type": "markdown",
      "metadata": {
        "id": "MOymYTEPTDHm"
      },
      "source": [
        "##Stack"
      ]
    },
    {
      "cell_type": "code",
      "metadata": {
        "id": "hK2tpCtNUdzb"
      },
      "source": [
        "#list implementation\n",
        "stack =[]\n",
        "stack.append(3)\n",
        "stack.append(13)\n",
        "stack.append(23)\n",
        "stack.append(34)\n",
        "stack.append(12)\n",
        "stack.append(38)\n",
        "stack.pop()\n",
        "stack.pop()\n",
        "stack.pop()\n",
        "stack.pop()\n",
        "stack.pop()\n",
        "#the problem with list is that if the list is full and if we add, it will make a new list with increase in size by two times the current size\n",
        "#so the size will be 3 times the original list\n",
        "#and we have to copy elts to the new list.so its time waste so we will use LL.\n"
      ],
      "execution_count": null,
      "outputs": []
    },
    {
      "cell_type": "code",
      "metadata": {
        "id": "LUOtzpr3VEww"
      },
      "source": [
        "#using double linked list\n",
        "from collections import deque\n",
        "stack =deque()\n",
        "stack.append('celestine')\n",
        "stack.append('sheena')\n",
        "stack.append('galdin')\n",
        "stack.append('joy')\n",
        "print(stack)\n",
        "stack.pop()\n",
        "stack.pop()\n",
        "stack.pop()\n",
        "print(stack)"
      ],
      "execution_count": null,
      "outputs": []
    },
    {
      "cell_type": "code",
      "metadata": {
        "id": "5BophfgOVIh5"
      },
      "source": [
        "from collections import deque\n",
        "class stack:\n",
        "    def __init__(self):\n",
        "        self.list=deque()\n",
        "\n",
        "    def push(self,val):\n",
        "        self.list.append(val)\n",
        "\n",
        "    def pop(self):\n",
        "        return self.list.pop()\n",
        "    \n",
        "    def peek(self):\n",
        "        return self.list[-1]\n",
        "    \n",
        "    def is_empty(self):\n",
        "        return len(self.list)==0\n",
        "    \n",
        "    def size(self):\n",
        "        return len(self.list)\n",
        "\n",
        "s=stack()\n",
        "s.push(5)\n",
        "print(s.peek())\n",
        "s.pop()\n",
        "print(s.is_empty())\n",
        "s.push(10)\n",
        "print(s.size())"
      ],
      "execution_count": null,
      "outputs": []
    },
    {
      "cell_type": "markdown",
      "metadata": {
        "id": "61zUoxcn0Qb6"
      },
      "source": [
        "###Stack Exercises"
      ]
    },
    {
      "cell_type": "code",
      "metadata": {
        "id": "Q97SmmX40U0W"
      },
      "source": [
        "from collections import deque\n",
        "class stack:\n",
        "    def __init__(self):\n",
        "        self.list=deque()\n",
        "\n",
        "    def push(self,val):\n",
        "        self.list.append(val)\n",
        "\n",
        "    def pop(self):\n",
        "        return self.list.pop()\n",
        "    \n",
        "    def peek(self):\n",
        "        return self.list[-1]\n",
        "    \n",
        "    def is_empty(self):\n",
        "        return len(self.list)==0\n",
        "    \n",
        "    def size(self):\n",
        "        return len(self.list)\n",
        "    \n",
        "def reverse_string(string):\n",
        "    arr=stack()\n",
        "    for i in string:\n",
        "        arr.push(i)\n",
        "    rev=''\n",
        "\n",
        "    while not arr.is_empty():\n",
        "        rev +=arr.pop()\n",
        "    return rev\n",
        "\n",
        "print(reverse_string(\"We will conquere COVID-19\"))"
      ],
      "execution_count": null,
      "outputs": []
    },
    {
      "cell_type": "code",
      "metadata": {
        "id": "nPa2pwMl0ipp"
      },
      "source": [
        "from collections import deque\n",
        "class Queue:\n",
        "    def __init__(self):\n",
        "        self.buffer=deque()\n",
        "\n",
        "    def enqueue(self,val):\n",
        "        self.buffer.appendleft(val)\n",
        "    \n",
        "    def dequeue(self):\n",
        "        return self.buffer.pop()\n",
        "\n",
        "    def is_empty(self):\n",
        "        return len(self.buffer)==0\n",
        "    \n",
        "    def size(self):\n",
        "        return len(self.buffer)\n",
        "    \n",
        "    def front(self):\n",
        "        return self.buffer[-1]\n",
        "'''\n",
        "Write a program to print binary numbers from 1 to 10 using Queue. Use Queue class implemented in main tutorial. Binary sequence should look like,\n",
        "    1\n",
        "    10\n",
        "    11\n",
        "    100\n",
        "    101\n",
        "    110\n",
        "    111\n",
        "    1000\n",
        "    1001\n",
        "    1010\n",
        "Hint: Notice a pattern above. After 1 second and third number is 1+0 and 1+1. 4th and 5th number are second number (i.e. 10) + 0 and second number (i.e. 10) + 1.\n",
        "\n",
        "You also need to add front() function in queue class that can return the front element in the queue.\n",
        "'''\n",
        "def produce_binary_numbers(n):\n",
        "    numbers_queue = Queue()\n",
        "    numbers_queue.enqueue(\"1\")\n",
        "\n",
        "    for i in range(n):\n",
        "        front = numbers_queue.front()\n",
        "        print(\"   \", front)\n",
        "        numbers_queue.enqueue(front + \"0\")\n",
        "        numbers_queue.enqueue(front + \"1\")\n",
        "\n",
        "        numbers_queue.dequeue()\n",
        "\n",
        "\n",
        "if __name__ == '__main__':\n",
        "    produce_binary_numbers(10)"
      ],
      "execution_count": null,
      "outputs": []
    },
    {
      "cell_type": "markdown",
      "metadata": {
        "id": "-8cpm0f003fV"
      },
      "source": [
        "##Queue"
      ]
    },
    {
      "cell_type": "code",
      "metadata": {
        "id": "MSgGlgr_1ABM"
      },
      "source": [
        "stock_price=[]\n",
        "stock_price.insert(0,344)\n",
        "stock_price.insert(0,34)\n",
        "stock_price.insert(0,24)\n",
        "stock_price.insert(0,65)\n",
        "print(stock_price.pop())\n",
        "#or \n",
        "from collections import deque\n",
        "q=deque()\n",
        "q.appendleft(5)\n",
        "q.appendleft(53)\n",
        "q.appendleft(52)\n",
        "print(q.pop())"
      ],
      "execution_count": null,
      "outputs": []
    },
    {
      "cell_type": "code",
      "metadata": {
        "id": "_WPwE4O_1CJd"
      },
      "source": [
        "from collections import deque\n",
        "class Queue:\n",
        "    def __init__(self):\n",
        "        self.buffer=deque()\n",
        "\n",
        "    def enqueue(self,val):\n",
        "        self.buffer.appendleft(val)\n",
        "    \n",
        "    def dequeue(self):\n",
        "        return self.buffer.pop()\n",
        "\n",
        "    def is_empty(self):\n",
        "        return len(self.buffer)==0\n",
        "    \n",
        "    def size(self):\n",
        "        return len(self.buffer)\n",
        "\n",
        "pq=Queue()\n",
        "pq.enqueue(1)\n",
        "pq.enqueue(5)\n",
        "pq.enqueue(8)\n",
        "pq.enqueue(12)\n",
        "print(pq.dequeue())\n",
        "print(pq.size())\n",
        "print(pq.is_empty())"
      ],
      "execution_count": null,
      "outputs": []
    },
    {
      "cell_type": "code",
      "metadata": {
        "id": "1YGpZtJ91G46"
      },
      "source": [
        "#using inheritance\n",
        "from collections import deque\n",
        "class Queue(deque):\n",
        "    def enqueue(self,val):\n",
        "        self.appendleft(val)\n",
        "    \n",
        "    def dequeue(self):\n",
        "        return self.pop()\n",
        "\n",
        "    def is_empty(self):\n",
        "        return len(self)==0\n",
        "    \n",
        "    def size(self):\n",
        "        return len(self)\n",
        "\n",
        "pq=Queue()\n",
        "pq.enqueue(1)\n",
        "pq.enqueue(5)\n",
        "pq.enqueue(8)\n",
        "pq.enqueue(12)\n",
        "print(pq.dequeue())\n",
        "print(pq.size())\n",
        "print(pq.is_empty())"
      ],
      "execution_count": null,
      "outputs": []
    },
    {
      "cell_type": "markdown",
      "metadata": {
        "id": "-4XbAunl1RNo"
      },
      "source": [
        "###Queue Exercises"
      ]
    },
    {
      "cell_type": "code",
      "metadata": {
        "id": "ELyndPf91WcD"
      },
      "source": [
        "#https://www.youtube.com/watch?v=PJ4t2U15ACo&list=PLeo1K3hjS3uub3PRhdoCTY8BxMKSW7RjN&index=2&t=0s\n",
        "#multi threading in python\n",
        "'''Design a food ordering system where your python program will run two threads,\n",
        "\n",
        "Place Order: This thread will be placing an order and inserting that into a queue. This thread places new order every 0.5 second. (hint: use time.sleep(0.5) function)\n",
        "Serve Order: This thread will server the order. All you need to do is pop the order out of the queue and print it. This thread serves an order every 2 seconds. Also start this thread 1 second after place order thread is started.\n",
        "Use this video to get yourself familiar with multithreading in python\n",
        "\n",
        "Pass following list as an argument to place order thread,\n",
        "\n",
        "orders = ['pizza','samosa','pasta','biryani','burger']\n",
        "This problem is a producer,consumer problem where place_order thread is producing orders whereas server_order thread is consuming the food orders. Use Queue class implemented in a video tutorial.\n",
        "'''\n",
        "import threading\n",
        "import time\n",
        "from collections import deque\n",
        "class Queue:\n",
        "    def __init__(self):\n",
        "        self.buffer=deque()\n",
        "\n",
        "    def enqueue(self,val):\n",
        "        self.buffer.appendleft(val)\n",
        "    \n",
        "    def dequeue(self):\n",
        "        return self.buffer.pop()\n",
        "\n",
        "    def is_empty(self):\n",
        "        return len(self.buffer)==0\n",
        "    \n",
        "    def size(self):\n",
        "        return len(self.buffer)\n",
        "\n",
        "food_order_queue=Queue()\n",
        "def place_order(orders):\n",
        "    for elt in orders:\n",
        "        print('place order:',elt)\n",
        "        food_order_queue.enqueue(elt)\n",
        "        time.sleep(0.5)\n",
        "\n",
        "def serve_order():\n",
        "    time.sleep(1)\n",
        "    while not food_order_queue.is_empty():\n",
        "        print('serve order: ',food_order_queue.dequeue())\n",
        "        time.sleep(2)\n",
        "\n",
        "if __name__=='__main__':\n",
        "    order=['pizza','samosa','pasta','biryani','burger','cherry']\n",
        "    t1=threading.Thread(target=place_order,args=(order,))\n",
        "    t2=threading.Thread(target=serve_order)\n",
        "    t1.start()\n",
        "    t2.start()"
      ],
      "execution_count": null,
      "outputs": []
    },
    {
      "cell_type": "code",
      "metadata": {
        "id": "vkkvtM681mQ4"
      },
      "source": [
        "from collections import deque\n",
        "class Queue:\n",
        "    def __init__(self):\n",
        "        self.buffer=deque()\n",
        "\n",
        "    def enqueue(self,val):\n",
        "        self.buffer.appendleft(val)\n",
        "    \n",
        "    def dequeue(self):\n",
        "        return self.buffer.pop()\n",
        "\n",
        "    def is_empty(self):\n",
        "        return len(self.buffer)==0\n",
        "    \n",
        "    def size(self):\n",
        "        return len(self.buffer)\n",
        "    \n",
        "    def front(self):\n",
        "        return self.buffer[-1]\n",
        "'''\n",
        "Write a program to print binary numbers from 1 to 10 using Queue. Use Queue class implemented in main tutorial. Binary sequence should look like,\n",
        "    1\n",
        "    10\n",
        "    11\n",
        "    100\n",
        "    101\n",
        "    110\n",
        "    111\n",
        "    1000\n",
        "    1001\n",
        "    1010\n",
        "Hint: Notice a pattern above. After 1 second and third number is 1+0 and 1+1. 4th and 5th number are second number (i.e. 10) + 0 and second number (i.e. 10) + 1.\n",
        "\n",
        "You also need to add front() function in queue class that can return the front element in the queue.\n",
        "'''\n",
        "def produce_binary_numbers(n):\n",
        "    numbers_queue = Queue()\n",
        "    numbers_queue.enqueue(\"1\")\n",
        "\n",
        "    for i in range(n):\n",
        "        front = numbers_queue.front()\n",
        "        print(\"   \", front)\n",
        "        numbers_queue.enqueue(front + \"0\")\n",
        "        numbers_queue.enqueue(front + \"1\")\n",
        "\n",
        "        numbers_queue.dequeue()\n",
        "\n",
        "\n",
        "if __name__ == '__main__':\n",
        "    produce_binary_numbers(10)"
      ],
      "execution_count": null,
      "outputs": []
    },
    {
      "cell_type": "markdown",
      "metadata": {
        "id": "0cLswikFQAoG"
      },
      "source": [
        "#Basic problems"
      ]
    },
    {
      "cell_type": "code",
      "metadata": {
        "id": "p_MD1KwTQO8U"
      },
      "source": [
        "#problem\n",
        "weight=int(input('Weight: '))\n",
        "unit=input('(L)bs or (k)g: ').upper()\n",
        "if unit=='K':\n",
        "    print(f'u r {weight*20/9}')\n",
        "else:\n",
        "    print((f'u r {weight*9/20}'))"
      ],
      "execution_count": null,
      "outputs": []
    },
    {
      "cell_type": "code",
      "metadata": {
        "id": "LGdiDlHsQQqR"
      },
      "source": [
        "#pb\n",
        "prev='stop'\n",
        "inst=input('<').lower()\n",
        "while inst!='quit':\n",
        "    if inst=='help':\n",
        "        print('start-to start the car')\n",
        "        print('stop-to stop the car')\n",
        "        print('quit-to exit')\n",
        "    elif inst=='start':\n",
        "        if prev==inst:\n",
        "            print('hey, the car has already started')\n",
        "        else:\n",
        "            print('car started ...ready to go!')\n",
        "    elif inst=='stop':\n",
        "        if prev==inst:\n",
        "            print('hey the car has already stopped')\n",
        "        else:\n",
        "            print('car stopped.')\n",
        "    else:\n",
        "        print(\"i don't understand this\")\n",
        "    prev=inst\n",
        "    inst=input('<').lower()\n",
        "    "
      ],
      "execution_count": null,
      "outputs": []
    },
    {
      "cell_type": "code",
      "metadata": {
        "id": "VQ1Xd8yQQ-17"
      },
      "source": [
        "#problem sum in list\n",
        "prices=[10,20,30]\n",
        "Sum=0\n",
        "for item in prices:\n",
        "    Sum+=item\n",
        "print(Sum)"
      ],
      "execution_count": null,
      "outputs": []
    },
    {
      "cell_type": "code",
      "metadata": {
        "id": "Th3lHEVLRpwa"
      },
      "source": [
        "#pb see output\n",
        "numbers=[1,1,1,1,5]\n",
        "for item in numbers:\n",
        "    Sum=''\n",
        "    for i in range(item):\n",
        "        Sum+='x'\n",
        "    print(Sum)"
      ],
      "execution_count": null,
      "outputs": []
    },
    {
      "cell_type": "code",
      "metadata": {
        "id": "LSfDuP40UiZs"
      },
      "source": [
        "#convert emojis in string using fn\n",
        "def convert_emoji(string):\n",
        "    Sum=''\n",
        "    str=string.split(' ')\n",
        "    dic={':(':'😔',':)':'😃'}\n",
        "    for ch in str:\n",
        "        Sum+=f'{dic.get(ch,ch)} '\n",
        "    return Sum\n",
        "\n",
        "\n",
        "string=input('<')\n",
        "print(convert_emoji(string))\n"
      ],
      "execution_count": null,
      "outputs": []
    }
  ]
}